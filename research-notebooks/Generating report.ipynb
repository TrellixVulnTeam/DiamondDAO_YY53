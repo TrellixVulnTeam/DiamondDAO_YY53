{
 "cells": [
  {
   "cell_type": "code",
   "execution_count": 7,
   "id": "b95f225a",
   "metadata": {
    "ExecuteTime": {
     "end_time": "2021-10-27T17:26:37.535896Z",
     "start_time": "2021-10-27T17:26:37.533811Z"
    }
   },
   "outputs": [],
   "source": [
    "import pandas as pd\n",
    "from datetime import datetime, timedelta"
   ]
  },
  {
   "cell_type": "code",
   "execution_count": 8,
   "id": "283ef106",
   "metadata": {
    "ExecuteTime": {
     "end_time": "2021-10-27T17:27:03.549598Z",
     "start_time": "2021-10-27T17:27:03.546278Z"
    }
   },
   "outputs": [
    {
     "data": {
      "text/plain": [
       "'2021-10-28'"
      ]
     },
     "execution_count": 8,
     "metadata": {},
     "output_type": "execute_result"
    }
   ],
   "source": [
    "datetime.today().date().strftime(\"%Y-%m-%d\")"
   ]
  },
  {
   "cell_type": "code",
   "execution_count": 10,
   "id": "82bad69a",
   "metadata": {
    "ExecuteTime": {
     "end_time": "2021-10-27T17:27:09.007357Z",
     "start_time": "2021-10-27T17:27:09.003498Z"
    }
   },
   "outputs": [
    {
     "data": {
      "text/plain": [
       "'2021-10-27'"
      ]
     },
     "execution_count": 10,
     "metadata": {},
     "output_type": "execute_result"
    }
   ],
   "source": [
    "(datetime.today() - timedelta(days=1)).strftime(\"%Y-%m-%d\")"
   ]
  },
  {
   "cell_type": "code",
   "execution_count": 11,
   "id": "6e3dcc4e",
   "metadata": {
    "ExecuteTime": {
     "end_time": "2021-10-27T17:27:24.992687Z",
     "start_time": "2021-10-27T17:27:24.989217Z"
    }
   },
   "outputs": [],
   "source": [
    "def reading_in_dataframes_based_on_date():\n",
    "    today_date = datetime.today().date().strftime(\"%Y-%m-%d\")\n",
    "    yesterday = (datetime.today() - timedelta(days=1)).strftime(\"%Y-%m-%d\")\n",
    "    recent_df = pd.read_csv(\"datasets/spaces/{}_spaces_v0.csv\".format(today_date))\n",
    "    \n",
    "    past_df = pd.read_csv(\"datasets/spaces/{}_spaces_v0.csv\".format(yesterday))\n",
    "    \n",
    "    return [past_df,\n",
    "           recent_df]"
   ]
  },
  {
   "cell_type": "code",
   "execution_count": 17,
   "id": "3e29154b",
   "metadata": {
    "ExecuteTime": {
     "end_time": "2021-10-27T17:39:07.964303Z",
     "start_time": "2021-10-27T17:39:07.887566Z"
    }
   },
   "outputs": [],
   "source": [
    "list_of_dao_snap_data = reading_in_dataframes_based_on_date()"
   ]
  },
  {
   "cell_type": "code",
   "execution_count": 46,
   "id": "25922eb8",
   "metadata": {
    "ExecuteTime": {
     "end_time": "2021-10-27T18:09:37.051279Z",
     "start_time": "2021-10-27T18:09:37.047788Z"
    }
   },
   "outputs": [],
   "source": [
    "def comparing_yesterday_today_to_get_new_daos(df_list):\n",
    "    prev_df = df_list[0]\n",
    "    new_df = df_list[1]\n",
    "\n",
    "    old_daos = prev_df['name'].tolist()\n",
    "    new_daos = new_df['name'].tolist()\n",
    "\n",
    "    dao_diff = []\n",
    "\n",
    "    for dao_name in new_daos:\n",
    "        if dao_name not in old_daos:\n",
    "            print(dao_name)\n",
    "            dao_diff.append(dao_name)\n",
    "    new_daos = new_df[new_df['name'].isin(dao_diff)][['name', 'no_of_members']]\n",
    "    return new_daos"
   ]
  },
  {
   "cell_type": "code",
   "execution_count": 47,
   "id": "23a4e216",
   "metadata": {
    "ExecuteTime": {
     "end_time": "2021-10-27T18:09:37.550624Z",
     "start_time": "2021-10-27T18:09:37.509876Z"
    }
   },
   "outputs": [
    {
     "name": "stdout",
     "output_type": "stream",
     "text": [
      "Fabien!\n",
      "lenia-nft\n",
      "The GotchiDao\n",
      "SamotClub DAO\n",
      "PlacesDAO\n",
      "Bluer\n"
     ]
    },
    {
     "data": {
      "text/html": [
       "<div>\n",
       "<style scoped>\n",
       "    .dataframe tbody tr th:only-of-type {\n",
       "        vertical-align: middle;\n",
       "    }\n",
       "\n",
       "    .dataframe tbody tr th {\n",
       "        vertical-align: top;\n",
       "    }\n",
       "\n",
       "    .dataframe thead th {\n",
       "        text-align: right;\n",
       "    }\n",
       "</style>\n",
       "<table border=\"1\" class=\"dataframe\">\n",
       "  <thead>\n",
       "    <tr style=\"text-align: right;\">\n",
       "      <th></th>\n",
       "      <th>name</th>\n",
       "      <th>no_of_members</th>\n",
       "    </tr>\n",
       "  </thead>\n",
       "  <tbody>\n",
       "    <tr>\n",
       "      <th>1</th>\n",
       "      <td>Fabien!</td>\n",
       "      <td>1</td>\n",
       "    </tr>\n",
       "    <tr>\n",
       "      <th>2219</th>\n",
       "      <td>lenia-nft</td>\n",
       "      <td>0</td>\n",
       "    </tr>\n",
       "    <tr>\n",
       "      <th>2220</th>\n",
       "      <td>The GotchiDao</td>\n",
       "      <td>0</td>\n",
       "    </tr>\n",
       "    <tr>\n",
       "      <th>2221</th>\n",
       "      <td>SamotClub DAO</td>\n",
       "      <td>0</td>\n",
       "    </tr>\n",
       "    <tr>\n",
       "      <th>2222</th>\n",
       "      <td>PlacesDAO</td>\n",
       "      <td>1</td>\n",
       "    </tr>\n",
       "    <tr>\n",
       "      <th>2223</th>\n",
       "      <td>Bluer</td>\n",
       "      <td>1</td>\n",
       "    </tr>\n",
       "  </tbody>\n",
       "</table>\n",
       "</div>"
      ],
      "text/plain": [
       "               name  no_of_members\n",
       "1           Fabien!              1\n",
       "2219      lenia-nft              0\n",
       "2220  The GotchiDao              0\n",
       "2221  SamotClub DAO              0\n",
       "2222      PlacesDAO              1\n",
       "2223          Bluer              1"
      ]
     },
     "execution_count": 47,
     "metadata": {},
     "output_type": "execute_result"
    }
   ],
   "source": [
    "comparing_yesterday_today_to_get_new_daos(list_of_dao_snap_data)"
   ]
  },
  {
   "cell_type": "code",
   "execution_count": 24,
   "id": "54b5471d",
   "metadata": {
    "ExecuteTime": {
     "end_time": "2021-10-27T17:51:26.754956Z",
     "start_time": "2021-10-27T17:51:26.751161Z"
    }
   },
   "outputs": [],
   "source": [
    "def comparing_yesterday_today_to_get_membership_count_table(df_list):\n",
    "    prev_df_member_count = df_list[0][['id', 'name','no_of_members']].copy(deep=True)\n",
    "    new_df_member_count = df_list[1][['id', 'name','no_of_members']].copy(deep=True)\n",
    "    \n",
    "    prev_df_member_count.columns = ['id', 'name','prev_no_of_members']\n",
    "    new_df_member_count.columns = ['id', 'name','new_no_of_members']\n",
    "    \n",
    "    combined_df = pd.merge(prev_df_member_count,\n",
    "                          new_df_member_count,\n",
    "                           how='left',\n",
    "                           left_on = ['id', 'name'],\n",
    "                           right_on = ['id', 'name']\n",
    "                          )\n",
    "    \n",
    "    return combined_df\n",
    "\n",
    "\n"
   ]
  },
  {
   "cell_type": "code",
   "execution_count": 33,
   "id": "90e42297",
   "metadata": {
    "ExecuteTime": {
     "end_time": "2021-10-27T18:05:43.223515Z",
     "start_time": "2021-10-27T18:05:43.220496Z"
    }
   },
   "outputs": [],
   "source": [
    "def getting_greatest_delta(df_with_prev_and_new):\n",
    "    df_with_prev_and_new['delta'] = df_with_prev_and_new['new_no_of_members'] - df_with_prev_and_new['prev_no_of_members']\n",
    "    return df_with_prev_and_new.sort_values(by='delta',\n",
    "                                            ascending=False).head(5)"
   ]
  },
  {
   "cell_type": "code",
   "execution_count": 34,
   "id": "eef399da",
   "metadata": {
    "ExecuteTime": {
     "end_time": "2021-10-27T18:05:43.630761Z",
     "start_time": "2021-10-27T18:05:43.621539Z"
    }
   },
   "outputs": [],
   "source": [
    "aggregated_table_with_no_of_members = comparing_yesterday_today_to_get_membership_count_table(list_of_dao_snap_data)\n",
    "top_changes = getting_greatest_delta(aggregated_table_with_no_of_members)\n"
   ]
  },
  {
   "cell_type": "code",
   "execution_count": 35,
   "id": "0e0fb86d",
   "metadata": {
    "ExecuteTime": {
     "end_time": "2021-10-27T18:05:43.878459Z",
     "start_time": "2021-10-27T18:05:43.870994Z"
    }
   },
   "outputs": [
    {
     "data": {
      "text/html": [
       "<div>\n",
       "<style scoped>\n",
       "    .dataframe tbody tr th:only-of-type {\n",
       "        vertical-align: middle;\n",
       "    }\n",
       "\n",
       "    .dataframe tbody tr th {\n",
       "        vertical-align: top;\n",
       "    }\n",
       "\n",
       "    .dataframe thead th {\n",
       "        text-align: right;\n",
       "    }\n",
       "</style>\n",
       "<table border=\"1\" class=\"dataframe\">\n",
       "  <thead>\n",
       "    <tr style=\"text-align: right;\">\n",
       "      <th></th>\n",
       "      <th>id</th>\n",
       "      <th>name</th>\n",
       "      <th>prev_no_of_members</th>\n",
       "      <th>new_no_of_members</th>\n",
       "      <th>delta</th>\n",
       "    </tr>\n",
       "  </thead>\n",
       "  <tbody>\n",
       "    <tr>\n",
       "      <th>1341</th>\n",
       "      <td>huwacoin.eth</td>\n",
       "      <td>HUWA-DAO</td>\n",
       "      <td>1</td>\n",
       "      <td>2.0</td>\n",
       "      <td>1.0</td>\n",
       "    </tr>\n",
       "    <tr>\n",
       "      <th>2019</th>\n",
       "      <td>koumakan.eth</td>\n",
       "      <td>ICETOUHOU DAO</td>\n",
       "      <td>2</td>\n",
       "      <td>3.0</td>\n",
       "      <td>1.0</td>\n",
       "    </tr>\n",
       "    <tr>\n",
       "      <th>0</th>\n",
       "      <td>bonustrack.eth</td>\n",
       "      <td>Hi</td>\n",
       "      <td>9</td>\n",
       "      <td>9.0</td>\n",
       "      <td>0.0</td>\n",
       "    </tr>\n",
       "    <tr>\n",
       "      <th>1481</th>\n",
       "      <td>loserchick.eth</td>\n",
       "      <td>LoserChick</td>\n",
       "      <td>2</td>\n",
       "      <td>2.0</td>\n",
       "      <td>0.0</td>\n",
       "    </tr>\n",
       "    <tr>\n",
       "      <th>1476</th>\n",
       "      <td>deadkev.eth</td>\n",
       "      <td>maoma</td>\n",
       "      <td>0</td>\n",
       "      <td>0.0</td>\n",
       "      <td>0.0</td>\n",
       "    </tr>\n",
       "  </tbody>\n",
       "</table>\n",
       "</div>"
      ],
      "text/plain": [
       "                  id           name  prev_no_of_members  new_no_of_members  \\\n",
       "1341    huwacoin.eth       HUWA-DAO                   1                2.0   \n",
       "2019    koumakan.eth  ICETOUHOU DAO                   2                3.0   \n",
       "0     bonustrack.eth             Hi                   9                9.0   \n",
       "1481  loserchick.eth     LoserChick                   2                2.0   \n",
       "1476     deadkev.eth          maoma                   0                0.0   \n",
       "\n",
       "      delta  \n",
       "1341    1.0  \n",
       "2019    1.0  \n",
       "0       0.0  \n",
       "1481    0.0  \n",
       "1476    0.0  "
      ]
     },
     "execution_count": 35,
     "metadata": {},
     "output_type": "execute_result"
    }
   ],
   "source": [
    "top_changes"
   ]
  },
  {
   "cell_type": "code",
   "execution_count": null,
   "id": "5a5da979",
   "metadata": {},
   "outputs": [],
   "source": []
  },
  {
   "cell_type": "code",
   "execution_count": null,
   "id": "4477a376",
   "metadata": {},
   "outputs": [],
   "source": []
  }
 ],
 "metadata": {
  "kernelspec": {
   "display_name": "Python 3 (ipykernel)",
   "language": "python",
   "name": "python3"
  },
  "language_info": {
   "codemirror_mode": {
    "name": "ipython",
    "version": 3
   },
   "file_extension": ".py",
   "mimetype": "text/x-python",
   "name": "python",
   "nbconvert_exporter": "python",
   "pygments_lexer": "ipython3",
   "version": "3.7.7"
  },
  "toc": {
   "base_numbering": 1,
   "nav_menu": {},
   "number_sections": true,
   "sideBar": true,
   "skip_h1_title": false,
   "title_cell": "Table of Contents",
   "title_sidebar": "Contents",
   "toc_cell": false,
   "toc_position": {},
   "toc_section_display": true,
   "toc_window_display": false
  },
  "varInspector": {
   "cols": {
    "lenName": 16,
    "lenType": 16,
    "lenVar": 40
   },
   "kernels_config": {
    "python": {
     "delete_cmd_postfix": "",
     "delete_cmd_prefix": "del ",
     "library": "var_list.py",
     "varRefreshCmd": "print(var_dic_list())"
    },
    "r": {
     "delete_cmd_postfix": ") ",
     "delete_cmd_prefix": "rm(",
     "library": "var_list.r",
     "varRefreshCmd": "cat(var_dic_list()) "
    }
   },
   "types_to_exclude": [
    "module",
    "function",
    "builtin_function_or_method",
    "instance",
    "_Feature"
   ],
   "window_display": false
  }
 },
 "nbformat": 4,
 "nbformat_minor": 5
}
